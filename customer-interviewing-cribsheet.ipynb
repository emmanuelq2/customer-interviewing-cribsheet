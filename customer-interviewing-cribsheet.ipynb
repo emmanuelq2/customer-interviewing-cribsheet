{
 "cells": [
  {
   "cell_type": "markdown",
   "metadata": {},
   "source": [
    "# Customer Interview Crib Sheet\n",
    "## Inspiration: [The Mom Test by Rob Fitzpatrick](http://momtestbook.com/)"
   ]
  },
  {
   "cell_type": "markdown",
   "metadata": {
    "collapsed": true
   },
   "source": [
    "### Basic Rules:\n",
    "* Talk about their life - NOT your idea.\n",
    "* Ask about **past specifics** - NOT generics or opinions about the future.\n",
    "* Talk less. Listen more.\n",
    "\n",
    "### Good Questions / Bad Questions:\n",
    "\n",
    "* \"Do you think it's a good idea?\" (AWFUL.)\n",
    "  * _Opinions are worthless._\n",
    "\n",
    "\n",
    "* \"Would you buy a product that did X?\" (BAD.)\n",
    "  * _Anything involving the future is over-optimistic._\n",
    "\n",
    "\n",
    "* \"How much would you pay for X?\" (BAD.)\n",
    "  * _People will lie to you if they think it's what you want to hear._\n",
    "\n",
    "\n",
    "* \"What would your dream product do?\" (MEH.)\n",
    "  * _People know their problems. Not how to solve them._\n",
    "\n",
    "\n",
    "* \"Why do you bother?\" (GOOD.)\n",
    "  * _You're shooting blind until you understand end goals._\n",
    "\n",
    "\n",
    "* \"What are the implications of that?\" (GOOD.)\n",
    "  * _Some problems don't matter._\n",
    "\n",
    "\n",
    "* \"Talk me through the last time that happened.\" (GOOD.)\n",
    "  * _Watching somebody else do a task reveals where problems and blind spots really lie._\n",
    "\n",
    "\n",
    "* \"What else have you tried?\" (GOOD.)\n",
    "  * _If they haven't already looked for a solution, they're not buying yours._\n",
    "\n",
    "\n",
    "* \"Would you pay X for a product that did Y?\" (BAD.)\n",
    "  * _Again - people are overly optimistic about future intentions._\n",
    "\n",
    "\n",
    "* \"How are you dealing with the problem now?\" (GOOD.)\n",
    "  * _Stating a precise price is rare. They often show what a solution is tangentially worth._\n",
    "\n",
    "\n",
    "* \"Where does the money come from?\" (GOOD.)\n",
    "  * _Understand who owns the budget._\n",
    "\n",
    "\n",
    "* \"Who else should I talk to?\" (GOOD.)\n",
    "  * _If you've got an interesting idea, this should be easy._\n",
    "  \n",
    "\n",
    "* \"Is there anything else I should have asked?\" (GOOD.)\n",
    "  * _People want to help. Give them an excuse to do so._"
   ]
  },
  {
   "cell_type": "code",
   "execution_count": null,
   "metadata": {
    "collapsed": true
   },
   "outputs": [],
   "source": []
  }
 ],
 "metadata": {
  "kernelspec": {
   "display_name": "Python [Root]",
   "language": "python",
   "name": "Python [Root]"
  },
  "language_info": {
   "codemirror_mode": {
    "name": "ipython",
    "version": 3
   },
   "file_extension": ".py",
   "mimetype": "text/x-python",
   "name": "python",
   "nbconvert_exporter": "python",
   "pygments_lexer": "ipython3",
   "version": "3.5.2"
  }
 },
 "nbformat": 4,
 "nbformat_minor": 0
}
