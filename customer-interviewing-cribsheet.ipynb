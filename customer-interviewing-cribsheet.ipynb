{
 "cells": [
  {
   "cell_type": "markdown",
   "metadata": {},
   "source": [
    "# Customer Interview Crib Sheet\n",
    "## Inspiration: [The Mom Test by Rob Fitzpatrick](http://momtestbook.com/)"
   ]
  },
  {
   "cell_type": "markdown",
   "metadata": {},
   "source": [
    "### Basic Rules:\n",
    "* Talk about their life - NOT your idea.\n",
    "* Ask about **past specifics** - NOT generics or opinions about the future.\n",
    "* Talk less. Listen more."
   ]
  },
  {
   "cell_type": "markdown",
   "metadata": {
    "collapsed": true
   },
   "source": [
    "### Good Questions / Bad Questions:\n",
    "\n",
    "* **\"Do you think it's a good idea?\"** (AWFUL.)\n",
    "  * _Opinions are worthless._\n",
    "\n",
    "* **\"Would you buy a product that did X?\"** (BAD.)\n",
    "  * _Anything involving the future is over-optimistic._\n",
    "\n",
    "\n",
    "* **\"How much would you pay for X?\"** (BAD.)\n",
    "  * _People will lie to you if they think it's what you want to hear._\n",
    "\n",
    "\n",
    "* **\"What would your dream product do?\"** (MEH.)\n",
    "  * _People know their problems. Not how to solve them._\n",
    "\n",
    "\n",
    "* **\"Why do you bother?\"** (GOOD.)\n",
    "  * _You're shooting blind until you understand end goals._\n",
    "\n",
    "\n",
    "* **\"What are the implications of that?\"** (GOOD.)\n",
    "  * _Some problems don't matter._\n",
    "\n",
    "\n",
    "* **\"Talk me through the last time that happened.\"** (GOOD.)\n",
    "  * _Watching somebody else do a task reveals where problems and blind spots really lie._\n",
    "\n",
    "\n",
    "* **\"What else have you tried?\"** (GOOD.)\n",
    "  * _If they haven't already looked for a solution, they're not buying yours._\n",
    "\n",
    "\n",
    "* **\"Would you pay X for a product that did Y?\"** (BAD.)\n",
    "  * _Again - people are overly optimistic about future intentions._\n",
    "\n",
    "\n",
    "* **\"How are you dealing with the problem now?\"** (GOOD.)\n",
    "  * _Stating a precise price is rare. They often show what a solution is tangentially worth._\n",
    "\n",
    "\n",
    "* **\"Where does the money come from?\"** (GOOD.)\n",
    "  * _Understand who owns the budget._\n",
    "\n",
    "\n",
    "* **\"Who else should I talk to?\"** (GOOD.)\n",
    "  * _If you've got an interesting idea, this should be easy._\n",
    "  \n",
    "\n",
    "* **\"Is there anything else I should have asked?\"** (GOOD.)\n",
    "  * _People want to help. Give them an excuse to do so._"
   ]
  },
  {
   "cell_type": "markdown",
   "metadata": {},
   "source": [
    "### When you get \"Fluff\" Feedback:\n",
    "\n",
    "* Generic claims (\"I usually/always/never...\")\n",
    "* Future-tense promises (\"I would/will...\")\n",
    "* Hypotheticals (\"I might/could...\")\n",
    "\n",
    "_Always re-anchor the customer to past specifics. When did it last happen? How they solved it? What else they tried?_"
   ]
  },
  {
   "cell_type": "markdown",
   "metadata": {},
   "source": [
    "### When You Get a Feature Request:\n",
    "\n",
    "**Usually good news. Write it down, but don't add it to your to-do list just yet.**\n",
    "\n",
    "* _\"Why do you want that?\"_\n",
    "* _\"What would that let you accomplish?\"_\n",
    "* _\"How are you coping without it now?\"_\n",
    "* _\"Should we delay (your product launch)? Or can this wait?\"_\n",
    "* _\"How would this fit into your day?\"_\n"
   ]
  },
  {
   "cell_type": "markdown",
   "metadata": {},
   "source": [
    "### The \"Currencies\" of Conversations:\n",
    "\n",
    "* **Time Commitments.**\n",
    "  * _Clear expectation of a followup meeting with known goals_\n",
    "  * _Sitting down to provide real feedback_\n",
    "  * _Product trials with non-trivial periods_\n",
    "\n",
    "* **Reputation Risk Commitments.**\n",
    "  * _Introductions to peers or team members_\n",
    "  * _Introductions to decision maker(s)_\n",
    "  * _Giving public testimonial or a case study_\n",
    "  \n",
    "* **Financial Commitments.**\n",
    "  * _Letter of intent_\n",
    "  * _Pre-order_\n",
    "  * _Deposit_"
   ]
  },
  {
   "cell_type": "markdown",
   "metadata": {},
   "source": [
    "### Good or Bad Meeting?\n",
    "\n",
    "* **\"That's so cool. I love it!\"** (BAD.)\n",
    "* **\"Looks great. Let me know when it launches.\"** (BAD.)\n",
    "* **\"There are a couple of people I can introduce you to when you're ready.\"** (PROBABLY BAD.)\n",
    "* **\"What are the next steps?\"** (GOOD. USUALLY.)\n",
    "* **\"I would definitely buy that.\"** (BAD. DANGER.)\n",
    "* **\"When can we start the trial?\"** (MAYBE GOOD.)\n",
    "* **\"Can I buy the prototype?\"** (VERY GOOD.)\n",
    "* **\"When can you return & talk to the team?\"** (GOOD.)"
   ]
  },
  {
   "cell_type": "markdown",
   "metadata": {},
   "source": [
    "### How to Fix a Bad Meeting:\n",
    "* _It's not a real lead unless you've given them a chance to reject you._"
   ]
  },
  {
   "cell_type": "markdown",
   "metadata": {},
   "source": [
    "### Don't Pitch Blindly."
   ]
  },
  {
   "cell_type": "markdown",
   "metadata": {},
   "source": [
    "### Crazy Customers & First Sales:"
   ]
  },
  {
   "cell_type": "markdown",
   "metadata": {},
   "source": [
    "### Finding Conversations:\n",
    "\n",
    "* **Going to Them:**\n",
    "  * Cold calls\n",
    "  * Serendipity\n",
    "  * Good Excuses vs Bad Excuses\n",
    "  * Immersing yourself where your customers are\n",
    "  * Landing pages\n",
    "  \n",
    "* **Bringing them to you:**\n",
    "  * Meetups"
   ]
  },
  {
   "cell_type": "markdown",
   "metadata": {},
   "source": [
    "### When you get an Emotional Signal:\n",
    "\n",
    "* _“Tell me more.”_\n",
    "* _“That seems to really bug you. What's the story?”_\n",
    "* _“What makes it so awful?”_\n",
    "* _“Why haven’t you been able to fix this already?”_\n",
    "* _“You seem pretty excited — it’s a big deal?”_\n",
    "* _\"Why so happy/sad/frustrated?\"_\n",
    "* _\"Go on.\"_"
   ]
  },
  {
   "cell_type": "markdown",
   "metadata": {},
   "source": [
    "### Do NOT go Fishing for Approval:"
   ]
  },
  {
   "cell_type": "markdown",
   "metadata": {},
   "source": [
    "### STOP pitching."
   ]
  },
  {
   "cell_type": "markdown",
   "metadata": {},
   "source": [
    "### Learn to Love Bad News.\n",
    "\n",
    "* _You should be terrified of at least one question in every conversation._\n",
    "* _\"Meh\" feedback is more reliable than \"Wow\"._"
   ]
  },
  {
   "cell_type": "markdown",
   "metadata": {},
   "source": [
    "### \"Does this problem matter?\" Questions:\n",
    "\n",
    "* _\"How seriously do you consider X?\"_\n",
    "* _\"Do you make money from X?\"_\n",
    "* _\"Have you tried making more money from X?\"_\n",
    "* _\"How much time you spend each week on X?\"_\n",
    "* _\"What's your aspirations for X?\"_\n",
    "* _\"What tools/service do you use to accompilish X?\"_\n",
    "* _\"What are you already doing to improve X?\"_\n",
    "* _\"What 3 big things are you trying to improve right now?\"_\n",
    "\n",
    "* Start broad. Don't zoom in until you get a strong signal."
   ]
  },
  {
   "cell_type": "markdown",
   "metadata": {},
   "source": []
  },
  {
   "cell_type": "markdown",
   "metadata": {},
   "source": []
  },
  {
   "cell_type": "markdown",
   "metadata": {},
   "source": []
  },
  {
   "cell_type": "markdown",
   "metadata": {},
   "source": []
  },
  {
   "cell_type": "markdown",
   "metadata": {},
   "source": []
  },
  {
   "cell_type": "markdown",
   "metadata": {},
   "source": []
  },
  {
   "cell_type": "markdown",
   "metadata": {},
   "source": []
  },
  {
   "cell_type": "markdown",
   "metadata": {},
   "source": []
  }
 ],
 "metadata": {
  "kernelspec": {
   "display_name": "Python [Root]",
   "language": "python",
   "name": "Python [Root]"
  },
  "language_info": {
   "codemirror_mode": {
    "name": "ipython",
    "version": 3
   },
   "file_extension": ".py",
   "mimetype": "text/x-python",
   "name": "python",
   "nbconvert_exporter": "python",
   "pygments_lexer": "ipython3",
   "version": "3.5.2"
  }
 },
 "nbformat": 4,
 "nbformat_minor": 0
}
