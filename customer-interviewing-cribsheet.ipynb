{
 "cells": [
  {
   "cell_type": "markdown",
   "metadata": {},
   "source": [
    "# Customer Interview Crib Sheet\n",
    "## Inspiration: [The Mom Test by Rob Fitzpatrick](http://momtestbook.com/)"
   ]
  },
  {
   "cell_type": "markdown",
   "metadata": {
    "collapsed": true
   },
   "source": [
    "### Basic Rules:\n",
    "* Talk about their life - NOT your idea.\n",
    "* Ask about **past specifics** - NOT generics or opinions about the future.\n",
    "* Talk less. Listen more.\n",
    "\n",
    "### Good Questions / Bad Questions:\n",
    "\n",
    "* \"Do you think it's a good idea?\" (AWFUL.)\n",
    "  _Opinions are worthless._\n",
    "\n",
    "* \"Would you buy a product that did X?\" (BAD.)</dt>\n",
    "  _Anything involving the future is over-optimistic._\n",
    "\n",
    "* \"How much would you pay for X?\" (BAD.)\n",
    "  _People will lie to you if they think it's what you want to hear._"
   ]
  },
  {
   "cell_type": "code",
   "execution_count": null,
   "metadata": {
    "collapsed": true
   },
   "outputs": [],
   "source": []
  }
 ],
 "metadata": {
  "kernelspec": {
   "display_name": "Python [Root]",
   "language": "python",
   "name": "Python [Root]"
  },
  "language_info": {
   "codemirror_mode": {
    "name": "ipython",
    "version": 3
   },
   "file_extension": ".py",
   "mimetype": "text/x-python",
   "name": "python",
   "nbconvert_exporter": "python",
   "pygments_lexer": "ipython3",
   "version": "3.5.2"
  }
 },
 "nbformat": 4,
 "nbformat_minor": 0
}
