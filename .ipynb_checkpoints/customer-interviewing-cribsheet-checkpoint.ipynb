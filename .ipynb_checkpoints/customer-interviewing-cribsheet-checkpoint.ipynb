{
 "cells": [
  {
   "cell_type": "markdown",
   "metadata": {},
   "source": [
    "# Customer Interview Crib Sheet\n",
    "## Inspiration: [The Mom Test by Rob Fitzpatrick](http://momtestbook.com/)"
   ]
  },
  {
   "cell_type": "markdown",
   "metadata": {},
   "source": [
    "### Basic Rules:\n",
    "* Talk about their life - NOT your idea.\n",
    "* Ask about **past specifics** - NOT generics or opinions about the future.\n",
    "* Talk less. Listen more."
   ]
  },
  {
   "cell_type": "markdown",
   "metadata": {},
   "source": [
    "---"
   ]
  },
  {
   "cell_type": "markdown",
   "metadata": {
    "collapsed": true
   },
   "source": [
    "### Good Questions / Bad Questions:\n",
    "\n",
    "* **\"Do you think it's a good idea?\"** (AWFUL.)\n",
    "  * _Opinions are worthless._\n",
    "\n",
    "* **\"Would you buy a product that did X?\"** (BAD.)\n",
    "  * _Anything involving the future is over-optimistic._\n",
    "\n",
    "\n",
    "* **\"How much would you pay for X?\"** (BAD.)\n",
    "  * _People will lie to you if they think it's what you want to hear._\n",
    "\n",
    "\n",
    "* **\"What would your dream product do?\"** (MEH.)\n",
    "  * _People know their problems. Not how to solve them._\n",
    "\n",
    "\n",
    "* **\"Why do you bother?\"** (GOOD.)\n",
    "  * _You're shooting blind until you understand end goals._\n",
    "\n",
    "\n",
    "* **\"What are the implications of that?\"** (GOOD.)\n",
    "  * _Some problems don't matter._\n",
    "\n",
    "\n",
    "* **\"Talk me through the last time that happened.\"** (GOOD.)\n",
    "  * _Watching somebody else do a task reveals where problems and blind spots really lie._\n",
    "\n",
    "\n",
    "* **\"What else have you tried?\"** (GOOD.)\n",
    "  * _If they haven't already looked for a solution, they're not buying yours._\n",
    "\n",
    "\n",
    "* **\"Would you pay X for a product that did Y?\"** (BAD.)\n",
    "  * _Again - people are overly optimistic about future intentions._\n",
    "\n",
    "\n",
    "* **\"How are you dealing with the problem now?\"** (GOOD.)\n",
    "  * _Stating a precise price is rare. They often show what a solution is tangentially worth._\n",
    "\n",
    "\n",
    "* **\"Where does the money come from?\"** (GOOD.)\n",
    "  * _Understand who owns the budget._\n",
    "\n",
    "\n",
    "* **\"Who else should I talk to?\"** (GOOD.)\n",
    "  * _If you've got an interesting idea, this should be easy._\n",
    "  \n",
    "\n",
    "* **\"Is there anything else I should have asked?\"** (GOOD.)\n",
    "  * _People want to help. Give them an excuse to do so._"
   ]
  },
  {
   "cell_type": "markdown",
   "metadata": {},
   "source": [
    "---"
   ]
  },
  {
   "cell_type": "markdown",
   "metadata": {},
   "source": [
    "### When you get \"Fluff\" Feedback:\n",
    "\n",
    "* Generic claims (\"I usually/always/never...\")\n",
    "* Future-tense promises (\"I would/will...\")\n",
    "* Hypotheticals (\"I might/could...\")\n",
    "\n",
    "_Always re-anchor the customer to past specifics. When did it last happen? How they solved it? What else they tried?_"
   ]
  },
  {
   "cell_type": "markdown",
   "metadata": {},
   "source": [
    "### When You Get a Feature Request:\n",
    "\n",
    "**Usually good news. Write it down, but don't add it to your to-do list just yet.**\n",
    "\n",
    "* _\"Why do you want that?\"_\n",
    "* _\"What would that let you accomplish?\"_\n",
    "* _\"How are you coping without it now?\"_\n",
    "* _\"Should we delay (your product launch)? Or can this wait?\"_\n",
    "* _\"How would this fit into your day?\"_\n"
   ]
  },
  {
   "cell_type": "markdown",
   "metadata": {},
   "source": [
    "### When you get an Emotional Signal:\n",
    "\n",
    "* _“Tell me more.”_\n",
    "* _“That seems to really bug you. What's the story?”_\n",
    "* _“What makes it so awful?”_\n",
    "* _“Why haven’t you been able to fix this already?”_\n",
    "* _“You seem pretty excited — it’s a big deal?”_\n",
    "* _\"Why so happy/sad/frustrated?\"_\n",
    "* _\"Go on.\"_"
   ]
  },
  {
   "cell_type": "markdown",
   "metadata": {},
   "source": [
    "### Do NOT go Fishing for Approval.\n",
    "\n",
    "  * If you mention your idea, people will try to protect your feelings."
   ]
  },
  {
   "cell_type": "markdown",
   "metadata": {},
   "source": [
    "### STOP pitching.\n",
    "\n",
    "* If you slip into pitch mode, apologize and get back into listen-only mode. Remember, anyone will say your idea is great - if you're annoying enough about it."
   ]
  },
  {
   "cell_type": "markdown",
   "metadata": {},
   "source": [
    "---"
   ]
  },
  {
   "cell_type": "markdown",
   "metadata": {},
   "source": [
    "### Learn to Love Bad News.\n",
    "\n",
    "* You should be terrified of at least one question in every conversation.\n",
    "* \"Meh\" feedback is more reliable than \"Wow\"."
   ]
  },
  {
   "cell_type": "markdown",
   "metadata": {},
   "source": [
    "### \"Does this problem matter?\" Questions:\n",
    "\n",
    "* _\"How seriously do you consider X?\"_\n",
    "* _\"Do you make money from X?\"_\n",
    "* _\"Have you tried making more money from X?\"_\n",
    "* _\"How much time you spend each week on X?\"_\n",
    "* _\"What's your aspirations for X?\"_\n",
    "* _\"What tools/service do you use to accompilish X?\"_\n",
    "* _\"What are you already doing to improve X?\"_\n",
    "* _\"What 3 big things are you trying to improve right now?\"_\n",
    "\n",
    "* Start broad. Don't zoom in until you get a strong signal."
   ]
  },
  {
   "cell_type": "markdown",
   "metadata": {},
   "source": [
    "### Pre-Plan the 3 Most Important Things to Learn from Each Persona\n",
    "\n",
    "* Expect to use different questions for each persona.\n",
    "* Don't stress about it too much. Simply pick the ones that \"feel\" right, and/or are the murkiest."
   ]
  },
  {
   "cell_type": "markdown",
   "metadata": {},
   "source": [
    "---"
   ]
  },
  {
   "cell_type": "markdown",
   "metadata": {},
   "source": [
    "### Keeping it Casual\n",
    "\n",
    "* Being too formal is a crutch for dealing with awkward / ambiguous situations. You don't necessarily need a \"framework\".\n",
    "\n",
    "* It only takes 5 minutes to learn whether a problem exists & is important."
   ]
  },
  {
   "cell_type": "markdown",
   "metadata": {},
   "source": [
    "---"
   ]
  },
  {
   "cell_type": "markdown",
   "metadata": {},
   "source": [
    "### Commitments & Advancements\n",
    "\n",
    "* **Meetings either succeed or fail.**\n",
    "\n",
    "  * A meeting succeeds with a commitment to advance to a next step."
   ]
  },
  {
   "cell_type": "markdown",
   "metadata": {},
   "source": [
    "### The \"Currencies\" of Conversations:\n",
    "\n",
    "* **Time Commitments.**\n",
    "  * Clear expectation of a followup meeting with known goals\n",
    "  * Sitting down to provide real feedback\n",
    "  * Product trials with feedback commitments\n",
    "\n",
    "* **Reputation Risk Commitments.**\n",
    "  * Introductions to peers or team members\n",
    "  * Introductions to decision maker(s)\n",
    "  * Giving public testimonial or a case study\n",
    "  \n",
    "* **Financial Commitments.**\n",
    "  * Letter of intent\n",
    "  * Pre-order\n",
    "  * Deposit\n",
    "  \n",
    "* The more the customer is giving up, the more seriously you can take what they're saying."
   ]
  },
  {
   "cell_type": "markdown",
   "metadata": {},
   "source": [
    "### Good or Bad Meeting?\n",
    "\n",
    "* **\"That's so cool. I love it!\"**\n",
    "\n",
    "  * _(BAD.)_\n",
    "  \n",
    "  \n",
    "* **\"Looks great. Let me know when it launches.\"** \n",
    "\n",
    "  * _(BAD.)_\n",
    "  \n",
    "  \n",
    "* **\"There are a couple of people I can introduce you to when you're ready.\"**\n",
    "\n",
    "  * _(PROBABLY BAD.)_\n",
    "  \n",
    "  \n",
    "* **\"What are the next steps?\"** \n",
    "\n",
    "  * _(GOOD. USUALLY.)_\n",
    "  \n",
    "  \n",
    "* **\"I would definitely buy that.\"** \n",
    "\n",
    "  * _(BAD. DANGER.)_\n",
    "  \n",
    "  \n",
    "* **\"When can we start the trial?\"** \n",
    "\n",
    "  * _(MAYBE GOOD.)_\n",
    "  \n",
    "  \n",
    "* **\"Can I buy the prototype?\"** \n",
    "\n",
    "  * _(VERY GOOD.)_\n",
    "  \n",
    "  \n",
    "* **\"When can you return & talk to the team?\"** \n",
    "\n",
    "  * _(GOOD.)_\n",
    "  "
   ]
  },
  {
   "cell_type": "markdown",
   "metadata": {},
   "source": [
    "### How to Fix a Bad Meeting:\n",
    "* It's not a real lead unless you've given them a chance to reject you."
   ]
  },
  {
   "cell_type": "markdown",
   "metadata": {},
   "source": [
    "### Don't Pitch Blindly.\n",
    "\n",
    "* While you may know \"the market\", understanding this customer's unique situation will considerably improve your odds. Learn first. Pitch later."
   ]
  },
  {
   "cell_type": "markdown",
   "metadata": {},
   "source": [
    "### Crazy Customers & First Sales:\n",
    "\n",
    "* On the surface, great. Just remember that in the early stages, the real goal is to learn. Revenue is a happy side effect."
   ]
  },
  {
   "cell_type": "markdown",
   "metadata": {},
   "source": [
    "---"
   ]
  },
  {
   "cell_type": "markdown",
   "metadata": {},
   "source": [
    "### Finding Conversations:\n",
    "\n",
    "* **Cold calls**\n",
    "\n",
    "  * Just be realistic about yields.\n",
    "  \n",
    "  \n",
    "* **Serendipity**\n",
    "\n",
    "  * If not a formal meeting, you don't need to make excuses about why you're there. Just ask about their life.\n",
    "  \n",
    "  \n",
    "* **Good Excuses vs Bad Excuses**\n",
    "\n",
    "  * It's impossible to steer a casual chat into a product or sale conversation without destroying trust. If opening with an excuse to talk, plan on the chat being a one-time learning opportunity. Not an ongoing relationship.\n",
    "  * If it's a topic you both care about, find an excuse to talk about that. Your idea never needs to enter the conversation & you'll both enjoy the chat.\n",
    "  \n",
    "  \n",
    "* **The \"usual list of suspects\"**:\n",
    "\n",
    "  * _Landing pages_\n",
    "  * _Organizing meetups_\n",
    "  * _Speaking / teaching / industry blogging_\n",
    "  * _Being a \"connector\"_\n",
    "  * _Intros via a mutual friend_\n",
    "  * _Universities_\n",
    "  * _Investors_"
   ]
  },
  {
   "cell_type": "markdown",
   "metadata": {},
   "source": [
    "### Asking for Meetings:\n",
    "\n",
    "* **Recommended framework: Vision / Frame / Weakness / Pedestal / Ask**\n",
    "\n",
    "  * You're trying to solve X. (Don't mention the idea.)\n",
    "  * Mention what stage you're at. If so, explicitly mention that you have nothing to sell.\n",
    "  * Show weakness. Mention the specific problem which is driving your questions.\n",
    "  * Flatter them by show how they can help.\n",
    "  * Explicitly ask for help.\n",
    "  \n",
    "  \n",
    "* **Don't go into the discussion looking for a customer.**\n",
    "\n",
    "  * It creates a needy vibe & forfeits any positional power. Instead, go in search of **industry and customer advisors**. You're just looking for helpful, knowledgeable people.\n",
    "  \n",
    "\n",
    "* **How many meetings?**\n",
    "\n",
    "  * Keep having conversations until you stop hearing new stuff.\n",
    "  \n",
    "\n",
    "* **How many participants?**\n",
    "\n",
    "  * Two is best. One for notes, one for asking questions. Solo is OK if you're good at taking concise notes. Any more than two interviewers can be a little overwhelming.\n",
    "  * If you're shy and/or don't have a cofounder, ask a friend to tag along as either the interviewer or notetaker."
   ]
  },
  {
   "cell_type": "markdown",
   "metadata": {},
   "source": [
    "### Choosing your Customers\n",
    "\n",
    "* If you're not hearing consistent problems, you don't have a sufficiently specific customer segment. Time to refine it."
   ]
  },
  {
   "cell_type": "markdown",
   "metadata": {},
   "source": [
    "### Talking to the Wrong People\n",
    "\n",
    "* Don’t fall into the trap of only talking to the most senior or important people you can find. You want to talk to people who are representative of your customers."
   ]
  },
  {
   "cell_type": "markdown",
   "metadata": {},
   "source": [
    "---"
   ]
  },
  {
   "cell_type": "markdown",
   "metadata": {},
   "source": [
    "### Best Practices:\n",
    "\n",
    "* **Prep / Setup**\n",
    "\n",
    "* 1st: know your current list of _3 most important questions_.\n",
    "* 2nd: know what commitments & next steps you are going to ask for at the end of the meeting."
   ]
  },
  {
   "cell_type": "markdown",
   "metadata": {},
   "source": [
    "** NO OUTSOURCING! **\n",
    "\n",
    "* When a hired gun brings bad news, accepting the feedback is problematic.\n",
    "* If the signals are lukewarm, a 3rd party is much more likely to gloss over them or miss the signal completely."
   ]
  },
  {
   "cell_type": "markdown",
   "metadata": {},
   "source": [
    "** Note Taking **\n",
    "\n",
    "* When possible, get exact quotes with quotation marks\n",
    "* Use symbols for shorthand:\n",
    "\n",
    "  * emotions\n",
    "  * pains/goals/obstacles/workarounds/background info\n",
    "  * features/money/budget/person\n",
    "  * to-dos\n",
    "\n",
    "* Ask for introductions at end of meeting with people mentioned during interview. If a competitor or alternate solution, note if for later research.\n"
   ]
  }
 ],
 "metadata": {
  "kernelspec": {
   "display_name": "Python [Root]",
   "language": "python",
   "name": "Python [Root]"
  },
  "language_info": {
   "codemirror_mode": {
    "name": "ipython",
    "version": 3
   },
   "file_extension": ".py",
   "mimetype": "text/x-python",
   "name": "python",
   "nbconvert_exporter": "python",
   "pygments_lexer": "ipython3",
   "version": "3.5.2"
  }
 },
 "nbformat": 4,
 "nbformat_minor": 0
}
